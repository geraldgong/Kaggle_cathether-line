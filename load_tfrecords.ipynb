{
 "cells": [
  {
   "cell_type": "code",
   "execution_count": 3,
   "metadata": {
    "ExecuteTime": {
     "end_time": "2021-02-24T15:40:35.576835Z",
     "start_time": "2021-02-24T15:40:34.604644Z"
    }
   },
   "outputs": [],
   "source": [
    "import os\n",
    "import tensorflow as tf\n",
    "import matplotlib.pyplot as plt"
   ]
  },
  {
   "cell_type": "code",
   "execution_count": 4,
   "metadata": {
    "ExecuteTime": {
     "end_time": "2021-02-24T15:40:36.985619Z",
     "start_time": "2021-02-24T15:40:36.588700Z"
    }
   },
   "outputs": [],
   "source": [
    "# Full path is needed\n",
    "def get_filenames(filepath):\n",
    "    return [os.path.join(filepath, file) for file in os.listdir(filepath)]\n",
    "\n",
    "train_dir = os.path.join(os.getcwd(), 'data', 'train_tfrecords')\n",
    "test_dir = os.path.join(os.getcwd(), 'data', 'test_tfrecords')\n",
    "\n",
    "train_dataset = tf.data.TFRecordDataset(get_filenames(train_dir))\n",
    "test_dataset = tf.data.TFRecordDataset(get_filenames(test_dir))\n",
    "\n",
    "def read_labeled_tfrecord(example):\n",
    "    LABELED_TFREC_FORMAT = {\n",
    "        \"image\": tf.io.FixedLenFeature([], tf.string),\n",
    "        \"StudyInstanceUID\": tf.io.FixedLenFeature([], tf.string),\n",
    "        \"ETT - Abnormal\": tf.io.FixedLenFeature([], tf.int64),\n",
    "        \"ETT - Borderline\": tf.io.FixedLenFeature([], tf.int64),\n",
    "        \"ETT - Normal\": tf.io.FixedLenFeature([], tf.int64),\n",
    "        \"NGT - Abnormal\": tf.io.FixedLenFeature([], tf.int64),\n",
    "        \"NGT - Borderline\": tf.io.FixedLenFeature([], tf.int64),\n",
    "        \"NGT - Incompletely Imaged\": tf.io.FixedLenFeature([], tf.int64),\n",
    "        \"NGT - Normal\": tf.io.FixedLenFeature([], tf.int64),\n",
    "        \"CVC - Abnormal\": tf.io.FixedLenFeature([], tf.int64),\n",
    "        \"CVC - Borderline\": tf.io.FixedLenFeature([], tf.int64),\n",
    "        \"CVC - Normal\": tf.io.FixedLenFeature([], tf.int64),\n",
    "        \"Swan Ganz Catheter Present\": tf.io.FixedLenFeature([], tf.int64),\n",
    "    }\n",
    "    example = tf.io.parse_single_example(example, LABELED_TFREC_FORMAT)\n",
    "    image = tf.io.decode_image(example['image'])\n",
    "    label = [\n",
    "        tf.cast(example[\"ETT - Abnormal\"], tf.int32),\n",
    "        tf.cast(example[\"ETT - Borderline\"], tf.int32),\n",
    "        tf.cast(example[\"ETT - Normal\"], tf.int32),\n",
    "        tf.cast(example[\"NGT - Abnormal\"], tf.int32),\n",
    "        tf.cast(example[\"NGT - Borderline\"], tf.int32),\n",
    "        tf.cast(example[\"NGT - Incompletely Imaged\"], tf.int32),\n",
    "        tf.cast(example[\"NGT - Normal\"], tf.int32),\n",
    "        tf.cast(example[\"CVC - Abnormal\"], tf.int32),\n",
    "        tf.cast(example[\"CVC - Borderline\"], tf.int32),\n",
    "        tf.cast(example[\"CVC - Normal\"], tf.int32),\n",
    "        tf.cast(example[\"Swan Ganz Catheter Present\"], tf.int32)\n",
    "    ]\n",
    "    return image, label\n",
    "\n",
    "\n",
    "def read_unlabeled_tfrecord(example):\n",
    "    FEATURES = {\n",
    "        \"image\": tf.io.FixedLenFeature([], tf.string),\n",
    "        \"StudyInstanceUID\": tf.io.FixedLenFeature([], tf.string),\n",
    "    }\n",
    "    example = tf.io.parse_single_example(example, FEATURES)\n",
    "    image = tf.io.decode_image(example['image'])\n",
    "    \n",
    "    return image"
   ]
  },
  {
   "cell_type": "code",
   "execution_count": 5,
   "metadata": {
    "ExecuteTime": {
     "end_time": "2021-02-24T15:40:40.003780Z",
     "start_time": "2021-02-24T15:40:39.740613Z"
    }
   },
   "outputs": [
    {
     "ename": "NameError",
     "evalue": "name 'plt' is not defined",
     "output_type": "error",
     "traceback": [
      "\u001b[0;31m---------------------------------------------------------------------------\u001b[0m",
      "\u001b[0;31mNameError\u001b[0m                                 Traceback (most recent call last)",
      "\u001b[0;32m<ipython-input-5-9058d48fb1a3>\u001b[0m in \u001b[0;36m<module>\u001b[0;34m\u001b[0m\n\u001b[1;32m      4\u001b[0m \u001b[0mval_ds\u001b[0m \u001b[0;34m=\u001b[0m \u001b[0mparsed_train_dataset\u001b[0m\u001b[0;34m.\u001b[0m\u001b[0mtake\u001b[0m\u001b[0;34m(\u001b[0m\u001b[0;36m4000\u001b[0m\u001b[0;34m)\u001b[0m\u001b[0;34m\u001b[0m\u001b[0;34m\u001b[0m\u001b[0m\n\u001b[1;32m      5\u001b[0m \u001b[0;34m\u001b[0m\u001b[0m\n\u001b[0;32m----> 6\u001b[0;31m \u001b[0mplt\u001b[0m\u001b[0;34m.\u001b[0m\u001b[0mfigure\u001b[0m\u001b[0;34m(\u001b[0m\u001b[0mfigsize\u001b[0m\u001b[0;34m=\u001b[0m\u001b[0;34m(\u001b[0m\u001b[0;36m10\u001b[0m\u001b[0;34m,\u001b[0m\u001b[0;36m10\u001b[0m\u001b[0;34m)\u001b[0m\u001b[0;34m)\u001b[0m\u001b[0;34m\u001b[0m\u001b[0;34m\u001b[0m\u001b[0m\n\u001b[0m\u001b[1;32m      7\u001b[0m \u001b[0;32mfor\u001b[0m \u001b[0mi\u001b[0m\u001b[0;34m,\u001b[0m \u001b[0mdata\u001b[0m \u001b[0;32min\u001b[0m \u001b[0menumerate\u001b[0m\u001b[0;34m(\u001b[0m\u001b[0mtrain_ds\u001b[0m\u001b[0;34m.\u001b[0m\u001b[0mtake\u001b[0m\u001b[0;34m(\u001b[0m\u001b[0;36m9\u001b[0m\u001b[0;34m)\u001b[0m\u001b[0;34m)\u001b[0m\u001b[0;34m:\u001b[0m\u001b[0;34m\u001b[0m\u001b[0;34m\u001b[0m\u001b[0m\n\u001b[1;32m      8\u001b[0m     \u001b[0mimg\u001b[0m \u001b[0;34m=\u001b[0m \u001b[0mtf\u001b[0m\u001b[0;34m.\u001b[0m\u001b[0mkeras\u001b[0m\u001b[0;34m.\u001b[0m\u001b[0mpreprocessing\u001b[0m\u001b[0;34m.\u001b[0m\u001b[0mimage\u001b[0m\u001b[0;34m.\u001b[0m\u001b[0marray_to_img\u001b[0m\u001b[0;34m(\u001b[0m\u001b[0mdata\u001b[0m\u001b[0;34m[\u001b[0m\u001b[0;36m0\u001b[0m\u001b[0;34m]\u001b[0m\u001b[0;34m)\u001b[0m\u001b[0;34m\u001b[0m\u001b[0;34m\u001b[0m\u001b[0m\n",
      "\u001b[0;31mNameError\u001b[0m: name 'plt' is not defined"
     ]
    }
   ],
   "source": [
    "# Train, valid spilit\n",
    "parsed_train_dataset = train_dataset.map(read_labeled_tfrecord)\n",
    "train_ds = parsed_train_dataset.skip(4000)\n",
    "val_ds = parsed_train_dataset.take(4000)\n",
    "\n",
    "plt.figure(figsize=(10,10))\n",
    "for i, data in enumerate(train_ds.take(9)):\n",
    "    img = tf.keras.preprocessing.image.array_to_img(data[0])\n",
    "    plt.subplot(3,3,i+1)\n",
    "    plt.imshow(img, cmap='gray')\n",
    "plt.show()"
   ]
  },
  {
   "cell_type": "code",
   "execution_count": null,
   "metadata": {},
   "outputs": [],
   "source": [
    "# Test\n",
    "parsed_test_dataset = test_dataset.map(read_unlabeled_tfrecord)\n",
    "plt.figure(figsize=(10,10))\n",
    "for i, data in enumerate(parsed_test_dataset.take(9)):\n",
    "    img = tf.keras.preprocessing.image.array_to_img(data)\n",
    "    plt.subplot(3,3,i+1)\n",
    "    plt.imshow(img, cmap='gray')\n",
    "plt.show()"
   ]
  },
  {
   "cell_type": "code",
   "execution_count": null,
   "metadata": {},
   "outputs": [],
   "source": [
    "def data_augment(image, label):\n",
    "    image = tf.image.random_flip_left_right(image)\n",
    "    image = tfa.image.rotate(image, random.uniform(-0.2, 0.2))\n",
    "    \n",
    "#     image = tf.image.random_brightness(image, max_delta=0.5) # Random brightness\n",
    "#     image = tf.image.random_saturation(image, 0, 2, seed=SEED)\n",
    "#     image = tf.image.adjust_saturation(image, 3)\n",
    "    augment = tf.keras.Sequential([\n",
    "        layers.experimental.preprocessing.Resizing(512, 512),\n",
    "        layers.experimental.preprocessing.Rescaling(1. / 255),\n",
    "        ])\n",
    "    image = augment(image)\n",
    "    \n",
    "\n",
    "    return image, label   \n",
    "\n",
    "test = val_ds.map(data_augment)\n",
    "\n",
    "\n",
    "plt.figure(figsize=(10,10))\n",
    "for i, data in enumerate(test.take(9)):\n",
    "    img = tf.keras.preprocessing.image.array_to_img(data[0])\n",
    "    plt.subplot(3,3,i+1)\n",
    "    plt.imshow(img, cmap='gray')\n",
    "plt.show()"
   ]
  }
 ],
 "metadata": {
  "kernelspec": {
   "display_name": "conda-env-catheter",
   "language": "python",
   "name": "conda-env-catheter"
  },
  "language_info": {
   "codemirror_mode": {
    "name": "ipython",
    "version": 3
   },
   "file_extension": ".py",
   "mimetype": "text/x-python",
   "name": "python",
   "nbconvert_exporter": "python",
   "pygments_lexer": "ipython3",
   "version": "3.8.5"
  },
  "toc": {
   "base_numbering": 1,
   "nav_menu": {},
   "number_sections": true,
   "sideBar": true,
   "skip_h1_title": false,
   "title_cell": "Table of Contents",
   "title_sidebar": "Contents",
   "toc_cell": false,
   "toc_position": {},
   "toc_section_display": true,
   "toc_window_display": false
  }
 },
 "nbformat": 4,
 "nbformat_minor": 4
}
